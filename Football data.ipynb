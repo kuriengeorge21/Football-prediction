{
 "cells": [
  {
   "cell_type": "code",
   "execution_count": 419,
   "metadata": {},
   "outputs": [],
   "source": [
    "import os\n",
    "import matplotlib.pyplot as plt\n",
    "import pandas as pd\n",
    "import numpy as np\n",
    "import seaborn as sns\n",
    "import csv\n",
    "import sklearn \n",
    "import graphviz\n",
    "from sklearn.linear_model import LogisticRegression\n",
    "from sklearn.tree import DecisionTreeClassifier\n",
    "from sklearn.feature_selection import SelectKBest\n",
    "from sklearn.feature_selection import chi2\n",
    "from sklearn.feature_selection import RFE\n",
    "from sklearn.ensemble import ExtraTreesClassifier\n",
    "from sklearn.svm import SVC, LinearSVC\n",
    "from sklearn.neighbors import KNeighborsClassifier\n",
    "from sklearn.naive_bayes import GaussianNB\n",
    "from sklearn.linear_model import Perceptron\n",
    "from sklearn.linear_model import SGDClassifier\n",
    "from sklearn.feature_selection import SelectKBest, chi2, f_classif\n",
    "from io import StringIO\n",
    "import sklearn.tree as tree\n",
    "from sklearn.model_selection import cross_val_score\n",
    "from sklearn.ensemble import RandomForestClassifier\n",
    "import sqlite3\n",
    "import pandas as pd\n",
    "import numpy as np\n",
    "import seaborn as sns\n",
    "import itertools\n",
    "import matplotlib.pyplot as plt\n",
    "from sklearn.ensemble import GradientBoostingClassifier\n",
    "from sklearn.ensemble import AdaBoostClassifier \n",
    "from sklearn.ensemble import RandomForestClassifier\n",
    "from sklearn.naive_bayes import GaussianNB\n",
    "from sklearn.neighbors import KNeighborsClassifier\n",
    "from sklearn import linear_model\n",
    "from sklearn.metrics import confusion_matrix\n",
    "from sklearn.metrics import classification_report, accuracy_score\n",
    "from sklearn.calibration import CalibratedClassifierCV\n",
    "from sklearn import model_selection\n",
    "from sklearn.model_selection import train_test_split\n",
    "from sklearn.metrics import make_scorer\n",
    "from time import time\n",
    "from sklearn.decomposition import PCA, FastICA\n",
    "from sklearn.pipeline import Pipeline\n",
    "import warnings\n",
    "from sklearn.metrics import accuracy_score\n",
    "from sklearn.metrics import recall_score\n",
    "from sklearn.metrics import precision_score\n",
    "from sklearn.metrics import f1_score\n",
    "from sklearn.neighbors import KNeighborsClassifier\n",
    "from sklearn.naive_bayes import GaussianNB"
   ]
  },
  {
   "cell_type": "markdown",
   "metadata": {},
   "source": []
  },
  {
   "cell_type": "code",
   "execution_count": 420,
   "metadata": {},
   "outputs": [],
   "source": [
    "#yi=traind.Age.values\n",
    "#yi=yi.reshape(-1,1)\n",
    "#imputer = KNNImputer(n_neighbors=5)\n",
    "#ynew=imputer.fit_transform(yi)\n"
   ]
  },
  {
   "cell_type": "code",
   "execution_count": 421,
   "metadata": {},
   "outputs": [],
   "source": [
    "traind=pd.read_csv('trainingdat.csv')\n",
    "testd=pd.read_csv('testdat.csv')"
   ]
  },
  {
   "cell_type": "code",
   "execution_count": 422,
   "metadata": {},
   "outputs": [
    {
     "name": "stdout",
     "output_type": "stream",
     "text": [
      "      ID        Date            Opponent Is_Home_or_Away  \\\n",
      "0    1.0    9/5/2015               Texas            Home   \n",
      "1    2.0   9/12/2015            Virginia            Away   \n",
      "2    3.0   9/19/2015         GeorgiaTech            Home   \n",
      "3    4.0   9/26/2015               UMass            Home   \n",
      "4    5.0   10/3/2015             Clemson            Away   \n",
      "5    6.0  10/10/2015                Navy            Home   \n",
      "6    7.0  10/17/2015                 USC            Home   \n",
      "7    8.0  10/31/2015              Temple            Away   \n",
      "8    9.0   11/7/2015                PITT            Away   \n",
      "9   10.0  11/14/2015          WakeForest            Home   \n",
      "10  11.0  11/21/2015       BostonCollege            Away   \n",
      "11  12.0  11/28/2015            Stanford            Away   \n",
      "12  13.0    9/4/2016               Texas            Away   \n",
      "13  14.0   9/10/2016              Nevada            Home   \n",
      "14  15.0   9/17/2016       MichiganState            Home   \n",
      "15  16.0   9/24/2016                Duke            Home   \n",
      "16  17.0   10/1/2016            Syracuse            Home   \n",
      "17  18.0   10/8/2016  NorthCarolinaState            Away   \n",
      "18  19.0  10/15/2016            Stanford            Home   \n",
      "19  20.0  10/29/2016        MiamiFlorida            Home   \n",
      "20  21.0   11/5/2016                Navy            Home   \n",
      "21  22.0  11/12/2016                Army            Home   \n",
      "22  23.0  11/19/2016        VirginiaTech            Home   \n",
      "23  24.0  11/26/2016                 USC            Away   \n",
      "\n",
      "   Is_Opponent_in_AP25_Preseason   Media Label  \n",
      "0                            Out   1-NBC   Win  \n",
      "1                            Out   4-ABC   Win  \n",
      "2                             In   1-NBC   Win  \n",
      "3                            Out   1-NBC   Win  \n",
      "4                             In   4-ABC  Lose  \n",
      "5                            Out   1-NBC   Win  \n",
      "6                             In   1-NBC   Win  \n",
      "7                            Out   4-ABC   Win  \n",
      "8                            Out   4-ABC   Win  \n",
      "9                            Out   1-NBC   Win  \n",
      "10                           Out   1-NBC   Win  \n",
      "11                            In   3-FOX  Lose  \n",
      "12                           Out   4-ABC  Lose  \n",
      "13                           Out   1-NBC   Win  \n",
      "14                           Out   1-NBC  Lose  \n",
      "15                           Out   1-NBC  Lose  \n",
      "16                           Out  2-ESPN   Win  \n",
      "17                           Out   4-ABC  Lose  \n",
      "18                            In   1-NBC  Lose  \n",
      "19                           Out   1-NBC   Win  \n",
      "20                           Out   5-CBS  Lose  \n",
      "21                           Out   1-NBC   Win  \n",
      "22                            In   1-NBC  Lose  \n",
      "23                            In   4-ABC  Lose  \n"
     ]
    }
   ],
   "source": [
    "traind=pd.read_csv('trainingdat.csv')[:-1];print(traind)"
   ]
  },
  {
   "cell_type": "code",
   "execution_count": null,
   "metadata": {},
   "outputs": [],
   "source": []
  },
  {
   "cell_type": "code",
   "execution_count": 423,
   "metadata": {},
   "outputs": [
    {
     "name": "stdout",
     "output_type": "stream",
     "text": [
      "      ID        Date            Opponent Is_Home_or_Away  \\\n",
      "0    1.0    9/5/2015               Texas            Home   \n",
      "1    2.0   9/12/2015            Virginia            Away   \n",
      "2    3.0   9/19/2015         GeorgiaTech            Home   \n",
      "3    4.0   9/26/2015               UMass            Home   \n",
      "4    5.0   10/3/2015             Clemson            Away   \n",
      "5    6.0  10/10/2015                Navy            Home   \n",
      "6    7.0  10/17/2015                 USC            Home   \n",
      "7    8.0  10/31/2015              Temple            Away   \n",
      "8    9.0   11/7/2015                PITT            Away   \n",
      "9   10.0  11/14/2015          WakeForest            Home   \n",
      "10  11.0  11/21/2015       BostonCollege            Away   \n",
      "11  12.0  11/28/2015            Stanford            Away   \n",
      "12  13.0    9/4/2016               Texas            Away   \n",
      "13  14.0   9/10/2016              Nevada            Home   \n",
      "14  15.0   9/17/2016       MichiganState            Home   \n",
      "15  16.0   9/24/2016                Duke            Home   \n",
      "16  17.0   10/1/2016            Syracuse            Home   \n",
      "17  18.0   10/8/2016  NorthCarolinaState            Away   \n",
      "18  19.0  10/15/2016            Stanford            Home   \n",
      "19  20.0  10/29/2016        MiamiFlorida            Home   \n",
      "20  21.0   11/5/2016                Navy            Home   \n",
      "21  22.0  11/12/2016                Army            Home   \n",
      "22  23.0  11/19/2016        VirginiaTech            Home   \n",
      "23  24.0  11/26/2016                 USC            Away   \n",
      "\n",
      "   Is_Opponent_in_AP25_Preseason   Media Label  \n",
      "0                            Out   1-NBC   Win  \n",
      "1                            Out   4-ABC   Win  \n",
      "2                             In   1-NBC   Win  \n",
      "3                            Out   1-NBC   Win  \n",
      "4                             In   4-ABC  Lose  \n",
      "5                            Out   1-NBC   Win  \n",
      "6                             In   1-NBC   Win  \n",
      "7                            Out   4-ABC   Win  \n",
      "8                            Out   4-ABC   Win  \n",
      "9                            Out   1-NBC   Win  \n",
      "10                           Out   1-NBC   Win  \n",
      "11                            In   3-FOX  Lose  \n",
      "12                           Out   4-ABC  Lose  \n",
      "13                           Out   1-NBC   Win  \n",
      "14                           Out   1-NBC  Lose  \n",
      "15                           Out   1-NBC  Lose  \n",
      "16                           Out  2-ESPN   Win  \n",
      "17                           Out   4-ABC  Lose  \n",
      "18                            In   1-NBC  Lose  \n",
      "19                           Out   1-NBC   Win  \n",
      "20                           Out   5-CBS  Lose  \n",
      "21                           Out   1-NBC   Win  \n",
      "22                            In   1-NBC  Lose  \n",
      "23                            In   4-ABC  Lose  \n"
     ]
    }
   ],
   "source": [
    "print(traind)"
   ]
  },
  {
   "cell_type": "code",
   "execution_count": 424,
   "metadata": {},
   "outputs": [],
   "source": [
    "traind.Is_Opponent_in_AP25_Preseason = traind.Is_Opponent_in_AP25_Preseason.map( {'In': 1, 'Out': 0})\n",
    "traind.Media = traind.Media.map( {'1-NBC':0, '2-ESPN':1, '3-FOX':2, '4-ABC': 3, '5-CBS': 4})\n",
    "traind.Is_Home_or_Away = traind.Is_Home_or_Away.map( {'Home': 1, 'Away': 0})\n",
    "traind.Label = traind.Label.map( {'Win': 1, 'Lose': 0})\n",
    "\n",
    "X = traind[['Is_Home_or_Away','Media','Is_Opponent_in_AP25_Preseason']]\n",
    "y = traind['Label']\n",
    "\n",
    "                                                            "
   ]
  },
  {
   "cell_type": "code",
   "execution_count": 425,
   "metadata": {},
   "outputs": [
    {
     "name": "stdout",
     "output_type": "stream",
     "text": [
      "    Is_Home_or_Away  Media  Is_Opponent_in_AP25_Preseason\n",
      "0                 1      0                              0\n",
      "1                 0      3                              0\n",
      "2                 1      0                              1\n",
      "3                 1      0                              0\n",
      "4                 0      3                              1\n",
      "5                 1      0                              0\n",
      "6                 1      0                              1\n",
      "7                 0      3                              0\n",
      "8                 0      3                              0\n",
      "9                 1      0                              0\n",
      "10                0      0                              0\n",
      "11                0      2                              1\n",
      "12                0      3                              0\n",
      "13                1      0                              0\n",
      "14                1      0                              0\n",
      "15                1      0                              0\n",
      "16                1      1                              0\n",
      "17                0      3                              0\n",
      "18                1      0                              1\n",
      "19                1      0                              0\n",
      "20                1      4                              0\n",
      "21                1      0                              0\n",
      "22                1      0                              1\n",
      "23                0      3                              1 0     1\n",
      "1     1\n",
      "2     1\n",
      "3     1\n",
      "4     0\n",
      "5     1\n",
      "6     1\n",
      "7     1\n",
      "8     1\n",
      "9     1\n",
      "10    1\n",
      "11    0\n",
      "12    0\n",
      "13    1\n",
      "14    0\n",
      "15    0\n",
      "16    1\n",
      "17    0\n",
      "18    0\n",
      "19    1\n",
      "20    0\n",
      "21    1\n",
      "22    0\n",
      "23    0\n",
      "Name: Label, dtype: int64\n"
     ]
    }
   ],
   "source": [
    "print(X,y)"
   ]
  },
  {
   "cell_type": "code",
   "execution_count": 426,
   "metadata": {},
   "outputs": [
    {
     "data": {
      "text/plain": [
       "GaussianNB(priors=None, var_smoothing=1e-09)"
      ]
     },
     "execution_count": 426,
     "metadata": {},
     "output_type": "execute_result"
    }
   ],
   "source": [
    "\n",
    "model = GaussianNB()\n",
    "model.fit(X, y)"
   ]
  },
  {
   "cell_type": "code",
   "execution_count": 427,
   "metadata": {},
   "outputs": [
    {
     "data": {
      "text/plain": [
       "'              precision    recall  f1-score   support\\n\\n           0       0.62      0.80      0.70        10\\n           1       0.82      0.64      0.72        14\\n\\n    accuracy                           0.71        24\\n   macro avg       0.72      0.72      0.71        24\\nweighted avg       0.73      0.71      0.71        24\\n'"
      ]
     },
     "execution_count": 427,
     "metadata": {},
     "output_type": "execute_result"
    }
   ],
   "source": [
    "y_pred = model.predict(X)\n",
    "classification_report(y,y_pred)"
   ]
  },
  {
   "cell_type": "raw",
   "metadata": {},
   "source": [
    "sklearn.metrics.accuracy_score(y_true, y_pred, *, normalize=True, sample_weight=None"
   ]
  },
  {
   "cell_type": "code",
   "execution_count": 428,
   "metadata": {},
   "outputs": [
    {
     "data": {
      "text/plain": [
       "0.7083333333333334"
      ]
     },
     "execution_count": 428,
     "metadata": {},
     "output_type": "execute_result"
    }
   ],
   "source": [
    "accuracy_score(y, y_pred)"
   ]
  },
  {
   "cell_type": "code",
   "execution_count": 429,
   "metadata": {},
   "outputs": [
    {
     "data": {
      "text/plain": [
       "0.6428571428571429"
      ]
     },
     "execution_count": 429,
     "metadata": {},
     "output_type": "execute_result"
    }
   ],
   "source": [
    "recall_score(y, y_pred)"
   ]
  },
  {
   "cell_type": "code",
   "execution_count": 430,
   "metadata": {},
   "outputs": [
    {
     "data": {
      "text/plain": [
       "0.8181818181818182"
      ]
     },
     "execution_count": 430,
     "metadata": {},
     "output_type": "execute_result"
    }
   ],
   "source": [
    "precision_score(y, y_pred)"
   ]
  },
  {
   "cell_type": "code",
   "execution_count": 431,
   "metadata": {},
   "outputs": [
    {
     "data": {
      "text/plain": [
       "0.7200000000000001"
      ]
     },
     "execution_count": 431,
     "metadata": {},
     "output_type": "execute_result"
    }
   ],
   "source": [
    "f1_score(y, y_pred)"
   ]
  },
  {
   "cell_type": "code",
   "execution_count": 432,
   "metadata": {},
   "outputs": [],
   "source": [
    "neigh = KNeighborsClassifier(n_neighbors=3)\n",
    "neigh.fit(X, y)\n",
    "y_pred1 = neigh.predict(X)"
   ]
  },
  {
   "cell_type": "code",
   "execution_count": 433,
   "metadata": {},
   "outputs": [
    {
     "data": {
      "text/plain": [
       "0.7083333333333334"
      ]
     },
     "execution_count": 433,
     "metadata": {},
     "output_type": "execute_result"
    }
   ],
   "source": [
    "accuracy_score(y, y_pred1)"
   ]
  },
  {
   "cell_type": "code",
   "execution_count": 434,
   "metadata": {},
   "outputs": [
    {
     "data": {
      "text/plain": [
       "1.0"
      ]
     },
     "execution_count": 434,
     "metadata": {},
     "output_type": "execute_result"
    }
   ],
   "source": [
    "recall_score(y, y_pred1)"
   ]
  },
  {
   "cell_type": "code",
   "execution_count": 435,
   "metadata": {},
   "outputs": [
    {
     "data": {
      "text/plain": [
       "0.6666666666666666"
      ]
     },
     "execution_count": 435,
     "metadata": {},
     "output_type": "execute_result"
    }
   ],
   "source": [
    "precision_score(y, y_pred1)"
   ]
  },
  {
   "cell_type": "code",
   "execution_count": 436,
   "metadata": {},
   "outputs": [
    {
     "data": {
      "text/plain": [
       "0.8"
      ]
     },
     "execution_count": 436,
     "metadata": {},
     "output_type": "execute_result"
    }
   ],
   "source": [
    "f1_score(y, y_pred1)"
   ]
  },
  {
   "cell_type": "code",
   "execution_count": 437,
   "metadata": {},
   "outputs": [
    {
     "data": {
      "text/plain": [
       "array([1, 1, 1, 1, 0, 1, 1, 1, 1, 1, 1, 0, 1, 1, 1, 1, 1, 1, 1, 1, 1, 1,\n",
       "       1, 0], dtype=int64)"
      ]
     },
     "execution_count": 437,
     "metadata": {},
     "output_type": "execute_result"
    }
   ],
   "source": [
    "y_pred1"
   ]
  },
  {
   "cell_type": "code",
   "execution_count": 438,
   "metadata": {},
   "outputs": [
    {
     "data": {
      "text/plain": [
       "array([1, 0, 0, 1, 0, 1, 0, 0, 0, 1, 1, 0, 0, 1, 1, 1, 1, 0, 0, 1, 0, 1,\n",
       "       0, 0], dtype=int64)"
      ]
     },
     "execution_count": 438,
     "metadata": {},
     "output_type": "execute_result"
    }
   ],
   "source": [
    "y_pred"
   ]
  },
  {
   "cell_type": "code",
   "execution_count": 439,
   "metadata": {},
   "outputs": [
    {
     "name": "stdout",
     "output_type": "stream",
     "text": [
      "    Is_Home_or_Away  Media  Is_Opponent_in_AP25_Preseason\n",
      "0                 1      0                              0\n",
      "1                 1      0                              1\n",
      "2                 0      1                              0\n",
      "3                 0      2                              0\n",
      "4                 1      0                              0\n",
      "5                 0      3                              0\n",
      "6                 1      0                              1\n",
      "7                 1      0                              0\n",
      "8                 1      0                              0\n",
      "9                 0      3                              1\n",
      "10                1      0                              0\n",
      "11                0      3                              1 0     1\n",
      "1     0\n",
      "2     1\n",
      "3     1\n",
      "4     1\n",
      "5     1\n",
      "6     1\n",
      "7     1\n",
      "8     1\n",
      "9     0\n",
      "10    1\n",
      "11    0\n",
      "Name: Label, dtype: int64\n"
     ]
    }
   ],
   "source": [
    "testd.Is_Opponent_in_AP25_Preseason = testd.Is_Opponent_in_AP25_Preseason.map( {'In': 1, 'Out': 0})\n",
    "testd.Media = testd.Media.map( {'1-NBC':0, '2-ESPN':1, '3-FOX':2, '4-ABC': 3, '5-CBS': 4})\n",
    "testd.Is_Home_or_Away = testd.Is_Home_or_Away.map( {'Home': 1, 'Away': 0})\n",
    "testd.Label = testd.Label.map( {'Win': 1, 'Lose': 0})\n",
    "\n",
    "X1 = testd[['Is_Home_or_Away','Media','Is_Opponent_in_AP25_Preseason']]\n",
    "y1 = testd['Label']\n",
    "print(X1,y1)"
   ]
  },
  {
   "cell_type": "code",
   "execution_count": 440,
   "metadata": {},
   "outputs": [],
   "source": [
    "modelt = GaussianNB()\n",
    "modelt.fit(X1, y1); \n",
    "y_pred2 = model.predict(X1)\n"
   ]
  },
  {
   "cell_type": "code",
   "execution_count": 441,
   "metadata": {},
   "outputs": [
    {
     "data": {
      "text/plain": [
       "0.8333333333333334"
      ]
     },
     "execution_count": 441,
     "metadata": {},
     "output_type": "execute_result"
    }
   ],
   "source": [
    "accuracy_score(y1, y_pred2)"
   ]
  },
  {
   "cell_type": "code",
   "execution_count": 442,
   "metadata": {},
   "outputs": [
    {
     "data": {
      "text/plain": [
       "0.7777777777777778"
      ]
     },
     "execution_count": 442,
     "metadata": {},
     "output_type": "execute_result"
    }
   ],
   "source": [
    "recall_score(y1, y_pred2)"
   ]
  },
  {
   "cell_type": "code",
   "execution_count": 443,
   "metadata": {},
   "outputs": [
    {
     "data": {
      "text/plain": [
       "1.0"
      ]
     },
     "execution_count": 443,
     "metadata": {},
     "output_type": "execute_result"
    }
   ],
   "source": [
    "precision_score(y1, y_pred2)"
   ]
  },
  {
   "cell_type": "code",
   "execution_count": 444,
   "metadata": {},
   "outputs": [
    {
     "data": {
      "text/plain": [
       "0.8750000000000001"
      ]
     },
     "execution_count": 444,
     "metadata": {},
     "output_type": "execute_result"
    }
   ],
   "source": [
    "f1_score(y1, y_pred2)"
   ]
  },
  {
   "cell_type": "code",
   "execution_count": 445,
   "metadata": {},
   "outputs": [],
   "source": [
    "neigh = KNeighborsClassifier(n_neighbors=3)\n",
    "neigh.fit(X1, y1)\n",
    "y_pred3 = neigh.predict(X1)"
   ]
  },
  {
   "cell_type": "code",
   "execution_count": 446,
   "metadata": {},
   "outputs": [
    {
     "data": {
      "text/plain": [
       "0.9166666666666666"
      ]
     },
     "execution_count": 446,
     "metadata": {},
     "output_type": "execute_result"
    }
   ],
   "source": [
    "accuracy_score(y1, y_pred3)"
   ]
  },
  {
   "cell_type": "code",
   "execution_count": 447,
   "metadata": {},
   "outputs": [
    {
     "data": {
      "text/plain": [
       "1.0"
      ]
     },
     "execution_count": 447,
     "metadata": {},
     "output_type": "execute_result"
    }
   ],
   "source": [
    "recall_score(y1, y_pred3)"
   ]
  },
  {
   "cell_type": "code",
   "execution_count": 448,
   "metadata": {},
   "outputs": [
    {
     "data": {
      "text/plain": [
       "0.9"
      ]
     },
     "execution_count": 448,
     "metadata": {},
     "output_type": "execute_result"
    }
   ],
   "source": [
    "precision_score(y1, y_pred3)"
   ]
  },
  {
   "cell_type": "code",
   "execution_count": 449,
   "metadata": {},
   "outputs": [
    {
     "data": {
      "text/plain": [
       "0.9473684210526316"
      ]
     },
     "execution_count": 449,
     "metadata": {},
     "output_type": "execute_result"
    }
   ],
   "source": [
    "f1_score(y1, y_pred3)"
   ]
  },
  {
   "cell_type": "code",
   "execution_count": 450,
   "metadata": {},
   "outputs": [
    {
     "data": {
      "text/plain": [
       "array([1, 0, 1, 1, 1, 0, 0, 1, 1, 0, 1, 0], dtype=int64)"
      ]
     },
     "execution_count": 450,
     "metadata": {},
     "output_type": "execute_result"
    }
   ],
   "source": [
    "y_pred2"
   ]
  },
  {
   "cell_type": "code",
   "execution_count": 451,
   "metadata": {},
   "outputs": [
    {
     "data": {
      "text/plain": [
       "array([1, 1, 1, 1, 1, 1, 1, 1, 1, 0, 1, 0], dtype=int64)"
      ]
     },
     "execution_count": 451,
     "metadata": {},
     "output_type": "execute_result"
    }
   ],
   "source": [
    "y_pred3"
   ]
  },
  {
   "cell_type": "code",
   "execution_count": 452,
   "metadata": {},
   "outputs": [
    {
     "name": "stdout",
     "output_type": "stream",
     "text": [
      "1 1 1\n",
      "0 0 1\n",
      "1 1 1\n",
      "1 1 1\n",
      "1 1 1\n",
      "1 0 1\n",
      "1 0 1\n",
      "1 1 1\n",
      "1 1 1\n",
      "0 0 0\n",
      "1 1 1\n",
      "0 0 0\n"
     ]
    }
   ],
   "source": [
    "for x,y,z in zip(y1.values,y_pred2,y_pred3):\n",
    "    print(x,y,z)"
   ]
  },
  {
   "cell_type": "code",
   "execution_count": 453,
   "metadata": {},
   "outputs": [
    {
     "data": {
      "text/plain": [
       "20"
      ]
     },
     "execution_count": 453,
     "metadata": {},
     "output_type": "execute_result"
    }
   ],
   "source": [
    "traind.Opponent.nunique()"
   ]
  },
  {
   "cell_type": "code",
   "execution_count": 454,
   "metadata": {},
   "outputs": [
    {
     "data": {
      "text/plain": [
       "0                  Texas\n",
       "1               Virginia\n",
       "2            GeorgiaTech\n",
       "3                  UMass\n",
       "4                Clemson\n",
       "5                   Navy\n",
       "6                    USC\n",
       "7                 Temple\n",
       "8                   PITT\n",
       "9             WakeForest\n",
       "10         BostonCollege\n",
       "11              Stanford\n",
       "12                 Texas\n",
       "13                Nevada\n",
       "14         MichiganState\n",
       "15                  Duke\n",
       "16              Syracuse\n",
       "17    NorthCarolinaState\n",
       "18              Stanford\n",
       "19          MiamiFlorida\n",
       "20                  Navy\n",
       "21                  Army\n",
       "22          VirginiaTech\n",
       "23                   USC\n",
       "Name: Opponent, dtype: object"
      ]
     },
     "execution_count": 454,
     "metadata": {},
     "output_type": "execute_result"
    }
   ],
   "source": [
    "\n",
    "traind.Opponent"
   ]
  },
  {
   "cell_type": "code",
   "execution_count": 455,
   "metadata": {},
   "outputs": [
    {
     "name": "stdout",
     "output_type": "stream",
     "text": [
      "Texas\n",
      "Virginia\n",
      "GeorgiaTech\n",
      "UMass\n",
      "Clemson\n",
      "Navy\n",
      "USC\n",
      "Temple\n",
      "PITT\n",
      "WakeForest\n",
      "BostonCollege\n",
      "Stanford\n",
      "Texas\n",
      "Nevada\n",
      "MichiganState\n",
      "Duke\n",
      "Syracuse\n",
      "NorthCarolinaState\n",
      "Stanford\n",
      "MiamiFlorida\n",
      "Navy\n",
      "Army\n",
      "VirginiaTech\n",
      "USC\n"
     ]
    }
   ],
   "source": [
    "for i in traind.Opponent:\n",
    "    print(i)\n",
    "    "
   ]
  },
  {
   "cell_type": "code",
   "execution_count": 456,
   "metadata": {},
   "outputs": [],
   "source": [
    "traind.Opponent = traind.Opponent.map( {'Texas':0, 'Virginia':1, 'GeorgiaTech':2, 'UMass': 3, 'Clemson': 4,'Navy':5, 'USC':6, 'Temple':7, 'PITT': 8, 'WakeForest': 9,'BostonCollege':10, 'Stanford': 11, 'Nevada': 12,'MichiganState':13, 'Duke':14, 'Syracuse':15, 'NorthCarolinaState': 16, 'MiamiFlorida': 17,'Army': 18,'VirginiaTech':19})"
   ]
  },
  {
   "cell_type": "code",
   "execution_count": 457,
   "metadata": {},
   "outputs": [
    {
     "data": {
      "text/plain": [
       "0      0\n",
       "1      1\n",
       "2      2\n",
       "3      3\n",
       "4      4\n",
       "5      5\n",
       "6      6\n",
       "7      7\n",
       "8      8\n",
       "9      9\n",
       "10    10\n",
       "11    11\n",
       "12     0\n",
       "13    12\n",
       "14    13\n",
       "15    14\n",
       "16    15\n",
       "17    16\n",
       "18    11\n",
       "19    17\n",
       "20     5\n",
       "21    18\n",
       "22    19\n",
       "23     6\n",
       "Name: Opponent, dtype: int64"
      ]
     },
     "execution_count": 457,
     "metadata": {},
     "output_type": "execute_result"
    }
   ],
   "source": [
    "traind.Opponent"
   ]
  },
  {
   "cell_type": "code",
   "execution_count": 458,
   "metadata": {},
   "outputs": [
    {
     "data": {
      "image/png": "[encoded data removed]",
      "text/plain": [
       "<Figure size 432x288 with 1 Axes>"
      ]
     },
     "metadata": {
      "needs_background": "light"
     },
     "output_type": "display_data"
    }
   ],
   "source": [
    "X2 = traind[['Is_Home_or_Away','Media','Is_Opponent_in_AP25_Preseason','Opponent']]\n",
    "y2 = traind['Label']\n",
    "ex = ExtraTreesClassifier()\n",
    "ex.fit(X2, y2)\n",
    "feat_importances = pd.Series(ex.feature_importances_, index=X2.columns)\n",
    "feat_importances.nlargest(4).plot(kind='bar')\n",
    "plt.show()"
   ]
  },
  {
   "cell_type": "code",
   "execution_count": 459,
   "metadata": {},
   "outputs": [
    {
     "data": {
      "text/plain": [
       "0     2\n",
       "5     2\n",
       "6     2\n",
       "11    2\n",
       "8     1\n",
       "1     1\n",
       "2     1\n",
       "3     1\n",
       "4     1\n",
       "7     1\n",
       "19    1\n",
       "18    1\n",
       "10    1\n",
       "12    1\n",
       "13    1\n",
       "14    1\n",
       "15    1\n",
       "16    1\n",
       "17    1\n",
       "9     1\n",
       "Name: Opponent, dtype: int64"
      ]
     },
     "execution_count": 459,
     "metadata": {},
     "output_type": "execute_result"
    }
   ],
   "source": [
    "traind.Opponent.value_counts()"
   ]
  },
  {
   "cell_type": "code",
   "execution_count": 460,
   "metadata": {},
   "outputs": [
    {
     "data": {
      "text/plain": [
       "0    14\n",
       "3     7\n",
       "4     1\n",
       "2     1\n",
       "1     1\n",
       "Name: Media, dtype: int64"
      ]
     },
     "execution_count": 460,
     "metadata": {},
     "output_type": "execute_result"
    }
   ],
   "source": [
    "traind.Media.value_counts()"
   ]
  },
  {
   "cell_type": "code",
   "execution_count": 461,
   "metadata": {},
   "outputs": [],
   "source": [
    "#i am considering opponent as well. I am leaving out is home or away"
   ]
  },
  {
   "cell_type": "code",
   "execution_count": 462,
   "metadata": {},
   "outputs": [],
   "source": [
    "model4 = GaussianNB()\n",
    "model4.fit(X2, y2); \n"
   ]
  },
  {
   "cell_type": "code",
   "execution_count": 463,
   "metadata": {},
   "outputs": [],
   "source": [
    "y_pred5 = model4.predict(X2)\n",
    "\n"
   ]
  },
  {
   "cell_type": "code",
   "execution_count": 464,
   "metadata": {},
   "outputs": [
    {
     "data": {
      "text/plain": [
       "0.7083333333333334"
      ]
     },
     "execution_count": 464,
     "metadata": {},
     "output_type": "execute_result"
    }
   ],
   "source": [
    "accuracy_score(y2, y_pred5)"
   ]
  },
  {
   "cell_type": "code",
   "execution_count": 465,
   "metadata": {},
   "outputs": [
    {
     "data": {
      "text/plain": [
       "0.6428571428571429"
      ]
     },
     "execution_count": 465,
     "metadata": {},
     "output_type": "execute_result"
    }
   ],
   "source": [
    "recall_score(y2, y_pred5)"
   ]
  },
  {
   "cell_type": "code",
   "execution_count": 466,
   "metadata": {},
   "outputs": [
    {
     "data": {
      "text/plain": [
       "0.8181818181818182"
      ]
     },
     "execution_count": 466,
     "metadata": {},
     "output_type": "execute_result"
    }
   ],
   "source": [
    "precision_score(y2, y_pred5)"
   ]
  },
  {
   "cell_type": "code",
   "execution_count": 467,
   "metadata": {},
   "outputs": [
    {
     "data": {
      "text/plain": [
       "0.7200000000000001"
      ]
     },
     "execution_count": 467,
     "metadata": {},
     "output_type": "execute_result"
    }
   ],
   "source": [
    "f1_score(y2, y_pred5)"
   ]
  },
  {
   "cell_type": "code",
   "execution_count": 468,
   "metadata": {},
   "outputs": [
    {
     "name": "stdout",
     "output_type": "stream",
     "text": [
      "    Opponent  Media  Is_Opponent_in_AP25_Preseason\n",
      "0          0      0                              0\n",
      "1          1      3                              0\n",
      "2          2      0                              1\n",
      "3          3      0                              0\n",
      "4          4      3                              1\n",
      "5          5      0                              0\n",
      "6          6      0                              1\n",
      "7          7      3                              0\n",
      "8          8      3                              0\n",
      "9          9      0                              0\n",
      "10        10      0                              0\n",
      "11        11      2                              1\n",
      "12         0      3                              0\n",
      "13        12      0                              0\n",
      "14        13      0                              0\n",
      "15        14      0                              0\n",
      "16        15      1                              0\n",
      "17        16      3                              0\n",
      "18        11      0                              1\n",
      "19        17      0                              0\n",
      "20         5      4                              0\n",
      "21        18      0                              0\n",
      "22        19      0                              1\n",
      "23         6      3                              1 0     1\n",
      "1     1\n",
      "2     1\n",
      "3     1\n",
      "4     0\n",
      "5     1\n",
      "6     1\n",
      "7     1\n",
      "8     1\n",
      "9     1\n",
      "10    1\n",
      "11    0\n",
      "12    0\n",
      "13    1\n",
      "14    0\n",
      "15    0\n",
      "16    1\n",
      "17    0\n",
      "18    0\n",
      "19    1\n",
      "20    0\n",
      "21    1\n",
      "22    0\n",
      "23    0\n",
      "Name: Label, dtype: int64\n"
     ]
    }
   ],
   "source": [
    "x6 = traind[['Opponent','Media','Is_Opponent_in_AP25_Preseason']]\n",
    "y6 = traind['Label']\n",
    "print(x6,y6)"
   ]
  },
  {
   "cell_type": "code",
   "execution_count": 469,
   "metadata": {},
   "outputs": [],
   "source": [
    "model6 = GaussianNB()\n",
    "model6.fit(x6, y6); \n",
    "y_pred6 = model6.predict(x6)"
   ]
  },
  {
   "cell_type": "code",
   "execution_count": 470,
   "metadata": {},
   "outputs": [
    {
     "data": {
      "text/plain": [
       "0.75"
      ]
     },
     "execution_count": 470,
     "metadata": {},
     "output_type": "execute_result"
    }
   ],
   "source": [
    "accuracy_score(y6, y_pred6)"
   ]
  },
  {
   "cell_type": "code",
   "execution_count": 471,
   "metadata": {},
   "outputs": [
    {
     "data": {
      "text/plain": [
       "0.7857142857142857"
      ]
     },
     "execution_count": 471,
     "metadata": {},
     "output_type": "execute_result"
    }
   ],
   "source": [
    "recall_score(y6, y_pred6)"
   ]
  },
  {
   "cell_type": "code",
   "execution_count": 472,
   "metadata": {},
   "outputs": [
    {
     "data": {
      "text/plain": [
       "0.7857142857142857"
      ]
     },
     "execution_count": 472,
     "metadata": {},
     "output_type": "execute_result"
    }
   ],
   "source": [
    "precision_score(y6, y_pred6)"
   ]
  },
  {
   "cell_type": "code",
   "execution_count": 473,
   "metadata": {},
   "outputs": [
    {
     "data": {
      "text/plain": [
       "0.7857142857142857"
      ]
     },
     "execution_count": 473,
     "metadata": {},
     "output_type": "execute_result"
    }
   ],
   "source": [
    "f1_score(y6, y_pred6)"
   ]
  },
  {
   "cell_type": "code",
   "execution_count": null,
   "metadata": {},
   "outputs": [],
   "source": []
  },
  {
   "cell_type": "code",
   "execution_count": 474,
   "metadata": {},
   "outputs": [],
   "source": [
    "#testd.Opponent"
   ]
  },
  {
   "cell_type": "code",
   "execution_count": 475,
   "metadata": {},
   "outputs": [
    {
     "data": {
      "text/plain": [
       "0                 Temple\n",
       "1                Georgia\n",
       "2          BostonCollege\n",
       "3          MichiganState\n",
       "4              MiamiOhio\n",
       "5          NorthCarolina\n",
       "6                    USC\n",
       "7     NorthCarolinaState\n",
       "8             WakeForest\n",
       "9           MiamiFlorida\n",
       "10                  Navy\n",
       "11              Stanford\n",
       "Name: Opponent, dtype: object"
      ]
     },
     "execution_count": 475,
     "metadata": {},
     "output_type": "execute_result"
    }
   ],
   "source": [
    "testd.Opponent"
   ]
  },
  {
   "cell_type": "code",
   "execution_count": 476,
   "metadata": {},
   "outputs": [],
   "source": [
    "testd.Opponent = testd.Opponent.map( {'Texas':0, 'Virginia':1, 'GeorgiaTech':2, 'UMass': 3, 'Clemson': 4,'Navy':5, 'USC':6, 'Temple':7, 'PITT': 8, 'WakeForest': 9,'BostonCollege':10, 'Stanford': 11, 'Nevada': 12,'MichiganState':13, 'Duke':14, 'Syracuse':15, 'NorthCarolinaState': 16, 'MiamiFlorida': 17,'Army': 18,'VirginiaTech':19,'Georgia':20,'NorthCarolina':21,'MiamiOhio':22})"
   ]
  },
  {
   "cell_type": "code",
   "execution_count": 477,
   "metadata": {},
   "outputs": [
    {
     "data": {
      "text/plain": [
       "0      7\n",
       "1     20\n",
       "2     10\n",
       "3     13\n",
       "4     22\n",
       "5     21\n",
       "6      6\n",
       "7     16\n",
       "8      9\n",
       "9     17\n",
       "10     5\n",
       "11    11\n",
       "Name: Opponent, dtype: int64"
      ]
     },
     "execution_count": 477,
     "metadata": {},
     "output_type": "execute_result"
    }
   ],
   "source": [
    "testd.Opponent"
   ]
  },
  {
   "cell_type": "code",
   "execution_count": 478,
   "metadata": {},
   "outputs": [
    {
     "name": "stdout",
     "output_type": "stream",
     "text": [
      "    Opponent  Media  Is_Opponent_in_AP25_Preseason\n",
      "0          7      0                              0\n",
      "1         20      0                              1\n",
      "2         10      1                              0\n",
      "3         13      2                              0\n",
      "4         22      0                              0\n",
      "5         21      3                              0\n",
      "6          6      0                              1\n",
      "7         16      0                              0\n",
      "8          9      0                              0\n",
      "9         17      3                              1\n",
      "10         5      0                              0\n",
      "11        11      3                              1 0     1\n",
      "1     0\n",
      "2     1\n",
      "3     1\n",
      "4     1\n",
      "5     1\n",
      "6     1\n",
      "7     1\n",
      "8     1\n",
      "9     0\n",
      "10    1\n",
      "11    0\n",
      "Name: Label, dtype: int64\n"
     ]
    }
   ],
   "source": [
    "x7 = testd[['Opponent','Media','Is_Opponent_in_AP25_Preseason']]\n",
    "y7 = testd['Label']\n",
    "print(x7,y7)"
   ]
  },
  {
   "cell_type": "code",
   "execution_count": 479,
   "metadata": {},
   "outputs": [],
   "source": [
    "model7 = GaussianNB()\n",
    "model7.fit(x7, y7); \n",
    "y_pred7 = model7.predict(x7)"
   ]
  },
  {
   "cell_type": "code",
   "execution_count": 480,
   "metadata": {},
   "outputs": [
    {
     "data": {
      "text/plain": [
       "0.9166666666666666"
      ]
     },
     "execution_count": 480,
     "metadata": {},
     "output_type": "execute_result"
    }
   ],
   "source": [
    "accuracy_score(y7, y_pred7)"
   ]
  },
  {
   "cell_type": "code",
   "execution_count": 481,
   "metadata": {},
   "outputs": [
    {
     "data": {
      "text/plain": [
       "0.8888888888888888"
      ]
     },
     "execution_count": 481,
     "metadata": {},
     "output_type": "execute_result"
    }
   ],
   "source": [
    "recall_score(y7, y_pred7)"
   ]
  },
  {
   "cell_type": "code",
   "execution_count": 482,
   "metadata": {},
   "outputs": [
    {
     "data": {
      "text/plain": [
       "1.0"
      ]
     },
     "execution_count": 482,
     "metadata": {},
     "output_type": "execute_result"
    }
   ],
   "source": [
    "precision_score(y7, y_pred7)"
   ]
  },
  {
   "cell_type": "code",
   "execution_count": 483,
   "metadata": {},
   "outputs": [
    {
     "data": {
      "text/plain": [
       "0.9411764705882353"
      ]
     },
     "execution_count": 483,
     "metadata": {},
     "output_type": "execute_result"
    }
   ],
   "source": [
    "f1_score(y7, y_pred7)"
   ]
  },
  {
   "cell_type": "code",
   "execution_count": 484,
   "metadata": {},
   "outputs": [],
   "source": [
    "neigh6 = KNeighborsClassifier(n_neighbors=3)\n",
    "neigh6.fit(x6, y6)\n",
    "y_pred8 = neigh6.predict(x6)"
   ]
  },
  {
   "cell_type": "code",
   "execution_count": 485,
   "metadata": {},
   "outputs": [
    {
     "data": {
      "text/plain": [
       "0.75"
      ]
     },
     "execution_count": 485,
     "metadata": {},
     "output_type": "execute_result"
    }
   ],
   "source": [
    "accuracy_score(y6, y_pred8)"
   ]
  },
  {
   "cell_type": "code",
   "execution_count": 486,
   "metadata": {},
   "outputs": [
    {
     "data": {
      "text/plain": [
       "0.8571428571428571"
      ]
     },
     "execution_count": 486,
     "metadata": {},
     "output_type": "execute_result"
    }
   ],
   "source": [
    "recall_score(y6, y_pred8)"
   ]
  },
  {
   "cell_type": "code",
   "execution_count": 487,
   "metadata": {},
   "outputs": [
    {
     "data": {
      "text/plain": [
       "0.75"
      ]
     },
     "execution_count": 487,
     "metadata": {},
     "output_type": "execute_result"
    }
   ],
   "source": [
    "precision_score(y6, y_pred8)"
   ]
  },
  {
   "cell_type": "code",
   "execution_count": 488,
   "metadata": {},
   "outputs": [
    {
     "data": {
      "text/plain": [
       "0.7999999999999999"
      ]
     },
     "execution_count": 488,
     "metadata": {},
     "output_type": "execute_result"
    }
   ],
   "source": [
    "f1_score(y6, y_pred8)"
   ]
  },
  {
   "cell_type": "code",
   "execution_count": 489,
   "metadata": {},
   "outputs": [],
   "source": [
    "neigh7 = KNeighborsClassifier(n_neighbors=3)\n",
    "neigh7.fit(x7, y7)\n",
    "y_pred9 = neigh7.predict(x7)"
   ]
  },
  {
   "cell_type": "code",
   "execution_count": 490,
   "metadata": {},
   "outputs": [
    {
     "data": {
      "text/plain": [
       "0.75"
      ]
     },
     "execution_count": 490,
     "metadata": {},
     "output_type": "execute_result"
    }
   ],
   "source": [
    "accuracy_score(y7, y_pred9)"
   ]
  },
  {
   "cell_type": "code",
   "execution_count": 491,
   "metadata": {},
   "outputs": [
    {
     "data": {
      "text/plain": [
       "1.0"
      ]
     },
     "execution_count": 491,
     "metadata": {},
     "output_type": "execute_result"
    }
   ],
   "source": [
    "recall_score(y7, y_pred9)"
   ]
  },
  {
   "cell_type": "code",
   "execution_count": 492,
   "metadata": {},
   "outputs": [
    {
     "data": {
      "text/plain": [
       "0.75"
      ]
     },
     "execution_count": 492,
     "metadata": {},
     "output_type": "execute_result"
    }
   ],
   "source": [
    "precision_score(y7, y_pred9)"
   ]
  },
  {
   "cell_type": "code",
   "execution_count": 493,
   "metadata": {},
   "outputs": [
    {
     "data": {
      "text/plain": [
       "0.8571428571428571"
      ]
     },
     "execution_count": 493,
     "metadata": {},
     "output_type": "execute_result"
    }
   ],
   "source": [
    "f1_score(y7, y_pred9)"
   ]
  },
  {
   "cell_type": "code",
   "execution_count": 495,
   "metadata": {},
   "outputs": [
    {
     "name": "stdout",
     "output_type": "stream",
     "text": [
      "1 1 1\n",
      "0 0 1\n",
      "1 1 1\n",
      "1 1 1\n",
      "1 1 1\n",
      "1 1 1\n",
      "1 0 1\n",
      "1 1 1\n",
      "1 1 1\n",
      "0 0 1\n",
      "1 1 1\n",
      "0 0 1\n"
     ]
    }
   ],
   "source": [
    "for x,y,z in zip(y1.values,y_pred7,y_pred9):\n",
    "    print(x,y,z)"
   ]
  },
  {
   "cell_type": "code",
   "execution_count": null,
   "metadata": {},
   "outputs": [],
   "source": []
  }
 ],
 "metadata": {
  "kernelspec": {
   "display_name": "Python 3",
   "language": "python",
   "name": "python3"
  },
  "language_info": {
   "codemirror_mode": {
    "name": "ipython",
    "version": 3
   },
   "file_extension": ".py",
   "mimetype": "text/x-python",
   "name": "python",
   "nbconvert_exporter": "python",
   "pygments_lexer": "ipython3",
   "version": "3.7.6"
  }
 },
 "nbformat": 4,
 "nbformat_minor": 4
}
