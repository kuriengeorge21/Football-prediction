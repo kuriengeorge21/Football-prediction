{
 "cells": [
  {
   "cell_type": "code",
   "execution_count": 400,
   "metadata": {},
   "outputs": [],
   "source": [
    "import os\n",
    "import matplotlib.pyplot as plt\n",
    "import pandas as pd\n",
    "import numpy as np\n",
    "import seaborn as sns\n",
    "import csv\n",
    "import sklearn \n",
    "import graphviz\n",
    "from sklearn.linear_model import LogisticRegression\n",
    "from sklearn.tree import DecisionTreeClassifier\n",
    "from sklearn.feature_selection import SelectKBest\n",
    "from sklearn.feature_selection import chi2\n",
    "from sklearn.feature_selection import RFE\n",
    "from sklearn.ensemble import ExtraTreesClassifier\n",
    "from sklearn.svm import SVC, LinearSVC\n",
    "from sklearn.neighbors import KNeighborsClassifier\n",
    "from sklearn.naive_bayes import GaussianNB\n",
    "from sklearn.linear_model import Perceptron\n",
    "from sklearn.linear_model import SGDClassifier\n",
    "from sklearn.feature_selection import SelectKBest, chi2, f_classif\n",
    "from io import StringIO\n",
    "import sklearn.tree as tree\n",
    "from sklearn.model_selection import cross_val_score\n",
    "from sklearn.ensemble import RandomForestClassifier\n",
    "import sqlite3\n",
    "import pandas as pd\n",
    "import numpy as np\n",
    "import seaborn as sns\n",
    "import itertools\n",
    "import matplotlib.pyplot as plt\n",
    "from sklearn.ensemble import GradientBoostingClassifier\n",
    "from sklearn.ensemble import AdaBoostClassifier \n",
    "from sklearn.ensemble import RandomForestClassifier\n",
    "from sklearn.naive_bayes import GaussianNB\n",
    "from sklearn.neighbors import KNeighborsClassifier\n",
    "from sklearn import linear_model\n",
    "from sklearn.metrics import confusion_matrix\n",
    "from sklearn.metrics import classification_report, accuracy_score\n",
    "from sklearn.calibration import CalibratedClassifierCV\n",
    "from sklearn import model_selection\n",
    "from sklearn.model_selection import train_test_split\n",
    "from sklearn.metrics import make_scorer\n",
    "from time import time\n",
    "from sklearn.decomposition import PCA, FastICA\n",
    "from sklearn.pipeline import Pipeline\n",
    "import warnings\n",
    "from sklearn.metrics import accuracy_score\n",
    "from sklearn.metrics import recall_score\n",
    "from sklearn.metrics import precision_score\n",
    "from sklearn.metrics import f1_score\n",
    "from sklearn.neighbors import KNeighborsClassifier\n",
    "from sklearn.naive_bayes import GaussianNB"
   ]
  },
  {
   "cell_type": "markdown",
   "metadata": {},
   "source": []
  },
  {
   "cell_type": "code",
   "execution_count": 401,
   "metadata": {},
   "outputs": [],
   "source": [
    "#yi=traind.Age.values\n",
    "#yi=yi.reshape(-1,1)\n",
    "#imputer = KNNImputer(n_neighbors=5)\n",
    "#ynew=imputer.fit_transform(yi)\n"
   ]
  },
  {
   "cell_type": "code",
   "execution_count": 402,
   "metadata": {},
   "outputs": [],
   "source": [
    "traind=pd.read_csv('trainingdat.csv')\n",
    "testd=pd.read_csv('testdat.csv')"
   ]
  },
  {
   "cell_type": "code",
   "execution_count": 403,
   "metadata": {},
   "outputs": [
    {
     "name": "stdout",
     "output_type": "stream",
     "text": [
      "      ID        Date            Opponent Is_Home_or_Away  \\\n",
      "0    1.0    9/5/2015               Texas            Home   \n",
      "1    2.0   9/12/2015            Virginia            Away   \n",
      "2    3.0   9/19/2015         GeorgiaTech            Home   \n",
      "3    4.0   9/26/2015               UMass            Home   \n",
      "4    5.0   10/3/2015             Clemson            Away   \n",
      "5    6.0  10/10/2015                Navy            Home   \n",
      "6    7.0  10/17/2015                 USC            Home   \n",
      "7    8.0  10/31/2015              Temple            Away   \n",
      "8    9.0   11/7/2015                PITT            Away   \n",
      "9   10.0  11/14/2015          WakeForest            Home   \n",
      "10  11.0  11/21/2015       BostonCollege            Away   \n",
      "11  12.0  11/28/2015            Stanford            Away   \n",
      "12  13.0    9/4/2016               Texas            Away   \n",
      "13  14.0   9/10/2016              Nevada            Home   \n",
      "14  15.0   9/17/2016       MichiganState            Home   \n",
      "15  16.0   9/24/2016                Duke            Home   \n",
      "16  17.0   10/1/2016            Syracuse            Home   \n",
      "17  18.0   10/8/2016  NorthCarolinaState            Away   \n",
      "18  19.0  10/15/2016            Stanford            Home   \n",
      "19  20.0  10/29/2016        MiamiFlorida            Home   \n",
      "20  21.0   11/5/2016                Navy            Home   \n",
      "21  22.0  11/12/2016                Army            Home   \n",
      "22  23.0  11/19/2016        VirginiaTech            Home   \n",
      "23  24.0  11/26/2016                 USC            Away   \n",
      "\n",
      "   Is_Opponent_in_AP25_Preseason   Media Label  \n",
      "0                            Out   1-NBC   Win  \n",
      "1                            Out   4-ABC   Win  \n",
      "2                             In   1-NBC   Win  \n",
      "3                            Out   1-NBC   Win  \n",
      "4                             In   4-ABC  Lose  \n",
      "5                            Out   1-NBC   Win  \n",
      "6                             In   1-NBC   Win  \n",
      "7                            Out   4-ABC   Win  \n",
      "8                            Out   4-ABC   Win  \n",
      "9                            Out   1-NBC   Win  \n",
      "10                           Out   1-NBC   Win  \n",
      "11                            In   3-FOX  Lose  \n",
      "12                           Out   4-ABC  Lose  \n",
      "13                           Out   1-NBC   Win  \n",
      "14                           Out   1-NBC  Lose  \n",
      "15                           Out   1-NBC  Lose  \n",
      "16                           Out  2-ESPN   Win  \n",
      "17                           Out   4-ABC  Lose  \n",
      "18                            In   1-NBC  Lose  \n",
      "19                           Out   1-NBC   Win  \n",
      "20                           Out   5-CBS  Lose  \n",
      "21                           Out   1-NBC   Win  \n",
      "22                            In   1-NBC  Lose  \n",
      "23                            In   4-ABC  Lose  \n"
     ]
    }
   ],
   "source": [
    "traind=pd.read_csv('trainingdat.csv')[:-1];print(traind)"
   ]
  },
  {
   "cell_type": "code",
   "execution_count": null,
   "metadata": {},
   "outputs": [],
   "source": []
  },
  {
   "cell_type": "code",
   "execution_count": 404,
   "metadata": {},
   "outputs": [
    {
     "name": "stdout",
     "output_type": "stream",
     "text": [
      "      ID        Date            Opponent Is_Home_or_Away  \\\n",
      "0    1.0    9/5/2015               Texas            Home   \n",
      "1    2.0   9/12/2015            Virginia            Away   \n",
      "2    3.0   9/19/2015         GeorgiaTech            Home   \n",
      "3    4.0   9/26/2015               UMass            Home   \n",
      "4    5.0   10/3/2015             Clemson            Away   \n",
      "5    6.0  10/10/2015                Navy            Home   \n",
      "6    7.0  10/17/2015                 USC            Home   \n",
      "7    8.0  10/31/2015              Temple            Away   \n",
      "8    9.0   11/7/2015                PITT            Away   \n",
      "9   10.0  11/14/2015          WakeForest            Home   \n",
      "10  11.0  11/21/2015       BostonCollege            Away   \n",
      "11  12.0  11/28/2015            Stanford            Away   \n",
      "12  13.0    9/4/2016               Texas            Away   \n",
      "13  14.0   9/10/2016              Nevada            Home   \n",
      "14  15.0   9/17/2016       MichiganState            Home   \n",
      "15  16.0   9/24/2016                Duke            Home   \n",
      "16  17.0   10/1/2016            Syracuse            Home   \n",
      "17  18.0   10/8/2016  NorthCarolinaState            Away   \n",
      "18  19.0  10/15/2016            Stanford            Home   \n",
      "19  20.0  10/29/2016        MiamiFlorida            Home   \n",
      "20  21.0   11/5/2016                Navy            Home   \n",
      "21  22.0  11/12/2016                Army            Home   \n",
      "22  23.0  11/19/2016        VirginiaTech            Home   \n",
      "23  24.0  11/26/2016                 USC            Away   \n",
      "\n",
      "   Is_Opponent_in_AP25_Preseason   Media Label  \n",
      "0                            Out   1-NBC   Win  \n",
      "1                            Out   4-ABC   Win  \n",
      "2                             In   1-NBC   Win  \n",
      "3                            Out   1-NBC   Win  \n",
      "4                             In   4-ABC  Lose  \n",
      "5                            Out   1-NBC   Win  \n",
      "6                             In   1-NBC   Win  \n",
      "7                            Out   4-ABC   Win  \n",
      "8                            Out   4-ABC   Win  \n",
      "9                            Out   1-NBC   Win  \n",
      "10                           Out   1-NBC   Win  \n",
      "11                            In   3-FOX  Lose  \n",
      "12                           Out   4-ABC  Lose  \n",
      "13                           Out   1-NBC   Win  \n",
      "14                           Out   1-NBC  Lose  \n",
      "15                           Out   1-NBC  Lose  \n",
      "16                           Out  2-ESPN   Win  \n",
      "17                           Out   4-ABC  Lose  \n",
      "18                            In   1-NBC  Lose  \n",
      "19                           Out   1-NBC   Win  \n",
      "20                           Out   5-CBS  Lose  \n",
      "21                           Out   1-NBC   Win  \n",
      "22                            In   1-NBC  Lose  \n",
      "23                            In   4-ABC  Lose  \n"
     ]
    }
   ],
   "source": [
    "print(traind)"
   ]
  },
  {
   "cell_type": "code",
   "execution_count": 405,
   "metadata": {},
   "outputs": [],
   "source": [
    "traind.Is_Opponent_in_AP25_Preseason = traind.Is_Opponent_in_AP25_Preseason.map( {'In': 1, 'Out': 0})\n",
    "traind.Media = traind.Media.map( {'1-NBC':0, '2-ESPN':1, '3-FOX':2, '4-ABC': 3, '5-CBS': 4})\n",
    "traind.Is_Home_or_Away = traind.Is_Home_or_Away.map( {'Home': 1, 'Away': 0})\n",
    "traind.Label = traind.Label.map( {'Win': 1, 'Lose': 0})\n",
    "\n",
    "X = traind[['Is_Home_or_Away','Media','Is_Opponent_in_AP25_Preseason']]\n",
    "y = traind['Label']\n",
    "\n",
    "                                                            "
   ]
  },
  {
   "cell_type": "code",
   "execution_count": 406,
   "metadata": {},
   "outputs": [
    {
     "name": "stdout",
     "output_type": "stream",
     "text": [
      "    Is_Home_or_Away  Media  Is_Opponent_in_AP25_Preseason\n",
      "0                 1      0                              0\n",
      "1                 0      3                              0\n",
      "2                 1      0                              1\n",
      "3                 1      0                              0\n",
      "4                 0      3                              1\n",
      "5                 1      0                              0\n",
      "6                 1      0                              1\n",
      "7                 0      3                              0\n",
      "8                 0      3                              0\n",
      "9                 1      0                              0\n",
      "10                0      0                              0\n",
      "11                0      2                              1\n",
      "12                0      3                              0\n",
      "13                1      0                              0\n",
      "14                1      0                              0\n",
      "15                1      0                              0\n",
      "16                1      1                              0\n",
      "17                0      3                              0\n",
      "18                1      0                              1\n",
      "19                1      0                              0\n",
      "20                1      4                              0\n",
      "21                1      0                              0\n",
      "22                1      0                              1\n",
      "23                0      3                              1 0     1\n",
      "1     1\n",
      "2     1\n",
      "3     1\n",
      "4     0\n",
      "5     1\n",
      "6     1\n",
      "7     1\n",
      "8     1\n",
      "9     1\n",
      "10    1\n",
      "11    0\n",
      "12    0\n",
      "13    1\n",
      "14    0\n",
      "15    0\n",
      "16    1\n",
      "17    0\n",
      "18    0\n",
      "19    1\n",
      "20    0\n",
      "21    1\n",
      "22    0\n",
      "23    0\n",
      "Name: Label, dtype: int64\n"
     ]
    }
   ],
   "source": [
    "print(X,y)"
   ]
  },
  {
   "cell_type": "code",
   "execution_count": 407,
   "metadata": {},
   "outputs": [],
   "source": [
    "\n",
    "model = GaussianNB()\n",
    "model.fit(X, y); "
   ]
  },
  {
   "cell_type": "code",
   "execution_count": 408,
   "metadata": {},
   "outputs": [
    {
     "data": {
      "text/plain": [
       "'              precision    recall  f1-score   support\\n\\n           0       0.62      0.80      0.70        10\\n           1       0.82      0.64      0.72        14\\n\\n    accuracy                           0.71        24\\n   macro avg       0.72      0.72      0.71        24\\nweighted avg       0.73      0.71      0.71        24\\n'"
      ]
     },
     "execution_count": 408,
     "metadata": {},
     "output_type": "execute_result"
    }
   ],
   "source": [
    "y_pred = model.predict(X)\n",
    "classification_report(y,y_pred)"
   ]
  },
  {
   "cell_type": "raw",
   "metadata": {},
   "source": [
    "sklearn.metrics.accuracy_score(y_true, y_pred, *, normalize=True, sample_weight=None"
   ]
  },
  {
   "cell_type": "code",
   "execution_count": 409,
   "metadata": {},
   "outputs": [
    {
     "data": {
      "text/plain": [
       "0.7083333333333334"
      ]
     },
     "execution_count": 409,
     "metadata": {},
     "output_type": "execute_result"
    }
   ],
   "source": [
    "accuracy_score(y, y_pred)"
   ]
  },
  {
   "cell_type": "code",
   "execution_count": 410,
   "metadata": {},
   "outputs": [
    {
     "data": {
      "text/plain": [
       "0.6428571428571429"
      ]
     },
     "execution_count": 410,
     "metadata": {},
     "output_type": "execute_result"
    }
   ],
   "source": [
    "recall_score(y, y_pred)"
   ]
  },
  {
   "cell_type": "code",
   "execution_count": 411,
   "metadata": {},
   "outputs": [
    {
     "data": {
      "text/plain": [
       "0.8181818181818182"
      ]
     },
     "execution_count": 411,
     "metadata": {},
     "output_type": "execute_result"
    }
   ],
   "source": [
    "precision_score(y, y_pred)"
   ]
  },
  {
   "cell_type": "code",
   "execution_count": 412,
   "metadata": {},
   "outputs": [
    {
     "data": {
      "text/plain": [
       "0.7200000000000001"
      ]
     },
     "execution_count": 412,
     "metadata": {},
     "output_type": "execute_result"
    }
   ],
   "source": [
    "f1_score(y, y_pred)"
   ]
  },
  {
   "cell_type": "code",
   "execution_count": 413,
   "metadata": {},
   "outputs": [],
   "source": [
    "neigh = KNeighborsClassifier(n_neighbors=3)\n",
    "neigh.fit(X, y)\n",
    "y_pred1 = neigh.predict(X)"
   ]
  },
  {
   "cell_type": "code",
   "execution_count": 414,
   "metadata": {},
   "outputs": [
    {
     "data": {
      "text/plain": [
       "0.7083333333333334"
      ]
     },
     "execution_count": 414,
     "metadata": {},
     "output_type": "execute_result"
    }
   ],
   "source": [
    "accuracy_score(y, y_pred1)"
   ]
  },
  {
   "cell_type": "code",
   "execution_count": 415,
   "metadata": {},
   "outputs": [
    {
     "data": {
      "text/plain": [
       "1.0"
      ]
     },
     "execution_count": 415,
     "metadata": {},
     "output_type": "execute_result"
    }
   ],
   "source": [
    "recall_score(y, y_pred1)"
   ]
  },
  {
   "cell_type": "code",
   "execution_count": 416,
   "metadata": {},
   "outputs": [
    {
     "data": {
      "text/plain": [
       "0.6666666666666666"
      ]
     },
     "execution_count": 416,
     "metadata": {},
     "output_type": "execute_result"
    }
   ],
   "source": [
    "precision_score(y, y_pred1)"
   ]
  },
  {
   "cell_type": "code",
   "execution_count": 417,
   "metadata": {},
   "outputs": [
    {
     "data": {
      "text/plain": [
       "0.8"
      ]
     },
     "execution_count": 417,
     "metadata": {},
     "output_type": "execute_result"
    }
   ],
   "source": [
    "f1_score(y, y_pred1)"
   ]
  },
  {
   "cell_type": "code",
   "execution_count": 418,
   "metadata": {},
   "outputs": [
    {
     "data": {
      "text/plain": [
       "array([1, 1, 1, 1, 0, 1, 1, 1, 1, 1, 1, 0, 1, 1, 1, 1, 1, 1, 1, 1, 1, 1,\n",
       "       1, 0], dtype=int64)"
      ]
     },
     "execution_count": 418,
     "metadata": {},
     "output_type": "execute_result"
    }
   ],
   "source": [
    "y_pred1"
   ]
  },
  {
   "cell_type": "code",
   "execution_count": 419,
   "metadata": {},
   "outputs": [
    {
     "data": {
      "text/plain": [
       "array([1, 0, 0, 1, 0, 1, 0, 0, 0, 1, 1, 0, 0, 1, 1, 1, 1, 0, 0, 1, 0, 1,\n",
       "       0, 0], dtype=int64)"
      ]
     },
     "execution_count": 419,
     "metadata": {},
     "output_type": "execute_result"
    }
   ],
   "source": [
    "y_pred"
   ]
  },
  {
   "cell_type": "code",
   "execution_count": 420,
   "metadata": {},
   "outputs": [
    {
     "name": "stdout",
     "output_type": "stream",
     "text": [
      "    Is_Home_or_Away  Media  Is_Opponent_in_AP25_Preseason\n",
      "0                 1      0                              0\n",
      "1                 1      0                              1\n",
      "2                 0      1                              0\n",
      "3                 0      2                              0\n",
      "4                 1      0                              0\n",
      "5                 0      3                              0\n",
      "6                 1      0                              1\n",
      "7                 1      0                              0\n",
      "8                 1      0                              0\n",
      "9                 0      3                              1\n",
      "10                1      0                              0\n",
      "11                0      3                              1 0     1\n",
      "1     0\n",
      "2     1\n",
      "3     1\n",
      "4     1\n",
      "5     1\n",
      "6     1\n",
      "7     1\n",
      "8     1\n",
      "9     0\n",
      "10    1\n",
      "11    0\n",
      "Name: Label, dtype: int64\n"
     ]
    }
   ],
   "source": [
    "testd.Is_Opponent_in_AP25_Preseason = testd.Is_Opponent_in_AP25_Preseason.map( {'In': 1, 'Out': 0})\n",
    "testd.Media = testd.Media.map( {'1-NBC':0, '2-ESPN':1, '3-FOX':2, '4-ABC': 3, '5-CBS': 4})\n",
    "testd.Is_Home_or_Away = testd.Is_Home_or_Away.map( {'Home': 1, 'Away': 0})\n",
    "testd.Label = testd.Label.map( {'Win': 1, 'Lose': 0})\n",
    "\n",
    "X1 = testd[['Is_Home_or_Away','Media','Is_Opponent_in_AP25_Preseason']]\n",
    "y1 = testd['Label']\n",
    "print(X1,y1)"
   ]
  },
  {
   "cell_type": "code",
   "execution_count": 421,
   "metadata": {},
   "outputs": [],
   "source": [
    "modelt = GaussianNB()\n",
    "modelt.fit(X1, y1); \n",
    "y_pred2 = model.predict(X1)\n"
   ]
  },
  {
   "cell_type": "code",
   "execution_count": 422,
   "metadata": {},
   "outputs": [
    {
     "data": {
      "text/plain": [
       "0.8333333333333334"
      ]
     },
     "execution_count": 422,
     "metadata": {},
     "output_type": "execute_result"
    }
   ],
   "source": [
    "accuracy_score(y1, y_pred2)"
   ]
  },
  {
   "cell_type": "code",
   "execution_count": 423,
   "metadata": {},
   "outputs": [
    {
     "data": {
      "text/plain": [
       "0.7777777777777778"
      ]
     },
     "execution_count": 423,
     "metadata": {},
     "output_type": "execute_result"
    }
   ],
   "source": [
    "recall_score(y1, y_pred2)"
   ]
  },
  {
   "cell_type": "code",
   "execution_count": 424,
   "metadata": {},
   "outputs": [
    {
     "data": {
      "text/plain": [
       "1.0"
      ]
     },
     "execution_count": 424,
     "metadata": {},
     "output_type": "execute_result"
    }
   ],
   "source": [
    "precision_score(y1, y_pred2)"
   ]
  },
  {
   "cell_type": "code",
   "execution_count": 425,
   "metadata": {},
   "outputs": [
    {
     "data": {
      "text/plain": [
       "0.8750000000000001"
      ]
     },
     "execution_count": 425,
     "metadata": {},
     "output_type": "execute_result"
    }
   ],
   "source": [
    "f1_score(y1, y_pred2)"
   ]
  },
  {
   "cell_type": "code",
   "execution_count": 426,
   "metadata": {},
   "outputs": [],
   "source": [
    "neigh = KNeighborsClassifier(n_neighbors=3)\n",
    "neigh.fit(X1, y1)\n",
    "y_pred3 = neigh.predict(X1)"
   ]
  },
  {
   "cell_type": "code",
   "execution_count": 427,
   "metadata": {},
   "outputs": [
    {
     "data": {
      "text/plain": [
       "0.9166666666666666"
      ]
     },
     "execution_count": 427,
     "metadata": {},
     "output_type": "execute_result"
    }
   ],
   "source": [
    "accuracy_score(y1, y_pred3)"
   ]
  },
  {
   "cell_type": "code",
   "execution_count": 428,
   "metadata": {},
   "outputs": [
    {
     "data": {
      "text/plain": [
       "1.0"
      ]
     },
     "execution_count": 428,
     "metadata": {},
     "output_type": "execute_result"
    }
   ],
   "source": [
    "recall_score(y1, y_pred3)"
   ]
  },
  {
   "cell_type": "code",
   "execution_count": 429,
   "metadata": {},
   "outputs": [
    {
     "data": {
      "text/plain": [
       "0.9"
      ]
     },
     "execution_count": 429,
     "metadata": {},
     "output_type": "execute_result"
    }
   ],
   "source": [
    "precision_score(y1, y_pred3)"
   ]
  },
  {
   "cell_type": "code",
   "execution_count": 430,
   "metadata": {},
   "outputs": [
    {
     "data": {
      "text/plain": [
       "0.9473684210526316"
      ]
     },
     "execution_count": 430,
     "metadata": {},
     "output_type": "execute_result"
    }
   ],
   "source": [
    "f1_score(y1, y_pred3)"
   ]
  },
  {
   "cell_type": "code",
   "execution_count": 431,
   "metadata": {},
   "outputs": [
    {
     "data": {
      "text/plain": [
       "array([1, 0, 1, 1, 1, 0, 0, 1, 1, 0, 1, 0], dtype=int64)"
      ]
     },
     "execution_count": 431,
     "metadata": {},
     "output_type": "execute_result"
    }
   ],
   "source": [
    "y_pred2"
   ]
  },
  {
   "cell_type": "code",
   "execution_count": 432,
   "metadata": {},
   "outputs": [
    {
     "data": {
      "text/plain": [
       "array([1, 1, 1, 1, 1, 1, 1, 1, 1, 0, 1, 0], dtype=int64)"
      ]
     },
     "execution_count": 432,
     "metadata": {},
     "output_type": "execute_result"
    }
   ],
   "source": [
    "y_pred3"
   ]
  },
  {
   "cell_type": "code",
   "execution_count": 433,
   "metadata": {},
   "outputs": [
    {
     "name": "stdout",
     "output_type": "stream",
     "text": [
      "1 1 1\n",
      "0 0 1\n",
      "1 1 1\n",
      "1 1 1\n",
      "1 1 1\n",
      "1 0 1\n",
      "1 0 1\n",
      "1 1 1\n",
      "1 1 1\n",
      "0 0 0\n",
      "1 1 1\n",
      "0 0 0\n"
     ]
    }
   ],
   "source": [
    "for x,y,z in zip(y1.values,y_pred2,y_pred3):\n",
    "    print(x,y,z)"
   ]
  },
  {
   "cell_type": "code",
   "execution_count": null,
   "metadata": {},
   "outputs": [],
   "source": []
  },
  {
   "cell_type": "code",
   "execution_count": null,
   "metadata": {},
   "outputs": [],
   "source": [
    "\n"
   ]
  },
  {
   "cell_type": "code",
   "execution_count": null,
   "metadata": {},
   "outputs": [],
   "source": []
  }
 ],
 "metadata": {
  "kernelspec": {
   "display_name": "Python 3",
   "language": "python",
   "name": "python3"
  },
  "language_info": {
   "codemirror_mode": {
    "name": "ipython",
    "version": 3
   },
   "file_extension": ".py",
   "mimetype": "text/x-python",
   "name": "python",
   "nbconvert_exporter": "python",
   "pygments_lexer": "ipython3",
   "version": "3.7.6"
  }
 },
 "nbformat": 4,
 "nbformat_minor": 4
}
